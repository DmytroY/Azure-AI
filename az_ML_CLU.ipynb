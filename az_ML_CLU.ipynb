{
 "cells": [
  {
   "cell_type": "markdown",
   "metadata": {},
   "source": [
    "# Azure Language Studio. Conversational Language Understanding model for voice control\n",
    "Train and deploy model in Azure Language Studio as described here https://microsoftlearning.github.io/mslearn-ai-fundamentals/Instructions/Labs/08-conversational-language-understanding.html  then use that model's API as below."
   ]
  },
  {
   "cell_type": "code",
   "execution_count": null,
   "metadata": {},
   "outputs": [],
   "source": [
    "%pip install azure-ai-language-conversations"
   ]
  },
  {
   "cell_type": "code",
   "execution_count": 6,
   "metadata": {},
   "outputs": [
    {
     "name": "stdout",
     "output_type": "stream",
     "text": [
      "https://lang-qa8367.cognitiveservices.azure.com/\n"
     ]
    }
   ],
   "source": [
    "# endpoint and key are stored in .env file. Load it\n",
    "import os\n",
    "from dotenv import load_dotenv\n",
    "\n",
    "load_dotenv()\n",
    "print(os.getenv(\"AZURE_CLU_ENDPOINT\"))"
   ]
  },
  {
   "cell_type": "code",
   "execution_count": 25,
   "metadata": {},
   "outputs": [],
   "source": [
    "# load Azure modules and credentials\n",
    "from azure.core.credentials import AzureKeyCredential\n",
    "from azure.ai.language.conversations import ConversationAnalysisClient\n",
    "\n",
    "endpoint = os.getenv(\"AZURE_CLU_ENDPOINT\")\n",
    "credential = AzureKeyCredential(os.getenv(\"AZURE_CLU_KEY\"))"
   ]
  },
  {
   "cell_type": "code",
   "execution_count": 32,
   "metadata": {},
   "outputs": [],
   "source": [
    "# open connection\n",
    "client = ConversationAnalysisClient(endpoint, credential)\n",
    "\n",
    "# sent reques.\n",
    "# Note client under \"with\", so connection will be closed automaticaly, for next request new client should be created.\n",
    "with client:\n",
    "    query = \"Could you please switch off the fan?\"\n",
    "    result = client.analyze_conversation(\n",
    "        task={\n",
    "            \"kind\": \"Conversation\",\n",
    "            \"analysisInput\": {\n",
    "                \"conversationItem\": {\n",
    "                    \"participantId\": \"1\",\n",
    "                    \"id\": \"1\",\n",
    "                    \"modality\": \"text\",\n",
    "                    \"language\": \"en\",\n",
    "                    \"text\": query\n",
    "                },\n",
    "                \"isLoggingEnabled\": False\n",
    "            },\n",
    "            \"parameters\": {\n",
    "                \"projectName\": os.getenv(\"AZURE_CLU_PROJECT\"),\n",
    "                \"deploymentName\": os.getenv(\"AZURE_CLU_DEPLOYMENT\"),\n",
    "                \"verbose\": True\n",
    "            }\n",
    "        }\n",
    "    )"
   ]
  },
  {
   "cell_type": "code",
   "execution_count": 31,
   "metadata": {},
   "outputs": [
    {
     "name": "stdout",
     "output_type": "stream",
     "text": [
      "{'kind': 'ConversationResult',\n",
      " 'result': {'prediction': {'entities': [{'category': 'device',\n",
      "                                         'confidenceScore': 1,\n",
      "                                         'length': 3,\n",
      "                                         'offset': 32,\n",
      "                                         'text': 'fan'}],\n",
      "                           'intents': [{'category': 'switch_off',\n",
      "                                        'confidenceScore': 0.85638463},\n",
      "                                       {'category': 'switch_on',\n",
      "                                        'confidenceScore': 0.72163385},\n",
      "                                       {'category': 'None',\n",
      "                                        'confidenceScore': 0}],\n",
      "                           'projectKind': 'Conversation',\n",
      "                           'topIntent': 'switch_off'},\n",
      "            'query': 'Could you please switch off the fan?'}}\n"
     ]
    }
   ],
   "source": [
    "import pprint\n",
    "pprint.pprint(result)"
   ]
  },
  {
   "cell_type": "code",
   "execution_count": 30,
   "metadata": {},
   "outputs": [
    {
     "name": "stdout",
     "output_type": "stream",
     "text": [
      "top intent: switch_off\n",
      "confidence score: 0.85638463\n",
      "\n",
      "entity: fan\n",
      "confidence score: 1\n"
     ]
    }
   ],
   "source": [
    "# Just intent and entiti\n",
    "print(f\"top intent: {result['result']['prediction']['topIntent']}\")\n",
    "print(f\"confidence score: {result['result']['prediction']['intents'][0]['confidenceScore']}\\n\")\n",
    "\n",
    "print(f\"entity: {entity['text']}\")\n",
    "print(f\"confidence score: {entity['confidenceScore']}\")\n",
    "\n"
   ]
  }
 ],
 "metadata": {
  "kernelspec": {
   "display_name": "venv",
   "language": "python",
   "name": "python3"
  },
  "language_info": {
   "codemirror_mode": {
    "name": "ipython",
    "version": 3
   },
   "file_extension": ".py",
   "mimetype": "text/x-python",
   "name": "python",
   "nbconvert_exporter": "python",
   "pygments_lexer": "ipython3",
   "version": "3.12.6"
  }
 },
 "nbformat": 4,
 "nbformat_minor": 2
}
