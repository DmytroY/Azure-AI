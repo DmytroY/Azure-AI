{
 "cells": [
  {
   "cell_type": "markdown",
   "metadata": {},
   "source": [
    "# using Azure MLstudio\n",
    "Train and deploy model in Azure MLstudio then use that model's API\n",
    "\n",
    "Firstly leard model in accordance with this manual: https://microsoftlearning.github.io/mslearn-ai-fundamentals/Instructions/Labs/01-machine-learning.html\n",
    "Then use code below to connect to teh model."
   ]
  }
 ],
 "metadata": {
  "language_info": {
   "name": "python"
  }
 },
 "nbformat": 4,
 "nbformat_minor": 2
}
