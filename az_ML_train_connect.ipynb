{
 "cells": [
  {
   "cell_type": "markdown",
   "metadata": {},
   "source": [
    "# using Azure MLstudio\n",
    "Train and deploy model in Azure MLstudio then use that model's API\n",
    "\n",
    "Firstly leard model in accordance with this manual: https://microsoftlearning.github.io/mslearn-ai-fundamentals/Instructions/Labs/01-machine-learning.html\n",
    "Then use code below to connect to teh model."
   ]
  },
  {
   "cell_type": "code",
   "execution_count": 1,
   "metadata": {},
   "outputs": [
    {
     "name": "stdout",
     "output_type": "stream",
     "text": [
      "https://ml-workspace-dy-ibbnf.eastus.inference.ml.azure.com/score\n"
     ]
    }
   ],
   "source": [
    "import urllib.request\n",
    "import json\n",
    "import os\n",
    "import ssl\n",
    "from dotenv import load_dotenv\n",
    "import os\n",
    "\n",
    "# endpoint and key are stored in .env file. Load it and check\n",
    "load_dotenv()\n",
    "print(os.getenv(\"AZURE_ML_REST_ENDPOINT\"))"
   ]
  },
  {
   "cell_type": "code",
   "execution_count": 3,
   "metadata": {},
   "outputs": [
    {
     "name": "stdout",
     "output_type": "stream",
     "text": [
      "b'[308.15711318196645]'\n"
     ]
    }
   ],
   "source": [
    "def allowSelfSignedHttps(allowed):\n",
    "    # bypass the server certificate verification on client side\n",
    "    if allowed and not os.environ.get('PYTHONHTTPSVERIFY', '') and getattr(ssl, '_create_unverified_context', None):\n",
    "        ssl._create_default_https_context = ssl._create_unverified_context\n",
    "\n",
    "allowSelfSignedHttps(True) # this line is needed if you use self-signed certificate in your scoring service.\n",
    "\n",
    "# Request data \n",
    "data = {\n",
    "  \"input_data\": {\n",
    "    \"columns\": [\n",
    "      \"day\",\n",
    "      \"mnth\",\n",
    "      \"year\",\n",
    "      \"season\",\n",
    "      \"holiday\",\n",
    "      \"weekday\",\n",
    "      \"workingday\",\n",
    "      \"weathersit\",\n",
    "      \"temp\",\n",
    "      \"atemp\",\n",
    "      \"hum\",\n",
    "      \"windspeed\"\n",
    "    ],\n",
    "    \"index\": [0],\n",
    "    \"data\": [[1,1,2022,2,0,1,1,2,0.3,0.3,0.3,0.3]]\n",
    "  }\n",
    " }\n",
    "\n",
    "body = str.encode(json.dumps(data))\n",
    "url = os.getenv(\"AZURE_ML_REST_ENDPOINT\")\n",
    "api_key = os.getenv(\"AZURE_ML_ENDPOINT_KEY\")\n",
    "if not api_key:\n",
    "    raise Exception(\"A key should be provided to invoke the endpoint\")\n",
    "\n",
    "\n",
    "headers = {'Content-Type':'application/json', 'Authorization':('Bearer '+ api_key)}\n",
    "\n",
    "req = urllib.request.Request(url, body, headers)\n",
    "\n",
    "try:\n",
    "    response = urllib.request.urlopen(req)\n",
    "\n",
    "    result = response.read()\n",
    "    print(result)\n",
    "except urllib.error.HTTPError as error:\n",
    "    print(\"The request failed with status code: \" + str(error.code))\n",
    "\n",
    "    # Print the headers - they include the requert ID and the timestamp, which are useful for debugging the failure\n",
    "    print(error.info())\n",
    "    print(error.read().decode(\"utf8\", 'ignore'))"
   ]
  }
 ],
 "metadata": {
  "kernelspec": {
   "display_name": "venv",
   "language": "python",
   "name": "venv"
  },
  "language_info": {
   "codemirror_mode": {
    "name": "ipython",
    "version": 3
   },
   "file_extension": ".py",
   "mimetype": "text/x-python",
   "name": "python",
   "nbconvert_exporter": "python",
   "pygments_lexer": "ipython3",
   "version": "3.12.6"
  }
 },
 "nbformat": 4,
 "nbformat_minor": 2
}
