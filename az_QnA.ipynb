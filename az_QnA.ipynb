{
 "cells": [
  {
   "cell_type": "markdown",
   "metadata": {},
   "source": [
    "### API interface to Azure Custom question answering knowlege base\n",
    "\n",
    "Based on [this](https://microsoftlearning.github.io/mslearn-ai-language/Instructions/Exercises/02-qna.html#deploy-the-knowledge-base) Microsoft learn manual."
   ]
  },
  {
   "cell_type": "code",
   "execution_count": null,
   "metadata": {},
   "outputs": [],
   "source": [
    "%pip install azure-ai-language-questionanswering python-dotenv"
   ]
  },
  {
   "cell_type": "code",
   "execution_count": 1,
   "metadata": {},
   "outputs": [
    {
     "name": "stdout",
     "output_type": "stream",
     "text": [
      "Endpoint: https://ai-language324.cognitiveservices.azure.com/\n"
     ]
    }
   ],
   "source": [
    "import os\n",
    "from dotenv import load_dotenv\n",
    "from azure.core.credentials import AzureKeyCredential\n",
    "from azure.ai.language.questionanswering import QuestionAnsweringClient\n",
    "\n",
    "load_dotenv()\n",
    "ai_endpoint = os.getenv('AI_SERVICE_ENDPOINT')\n",
    "ai_key = os.getenv('AI_SERVICE_KEY')\n",
    "ai_project_name = os.getenv('QA_PROJECT_NAME')\n",
    "ai_deployment_name = os.getenv('QA_DEPLOYMENT_NAME')\n",
    "print(f'Endpoint: {ai_endpoint}')"
   ]
  },
  {
   "cell_type": "code",
   "execution_count": 2,
   "metadata": {},
   "outputs": [],
   "source": [
    "# Create client using endpoint and key\n",
    "credential = AzureKeyCredential(ai_key)\n",
    "ai_client = QuestionAnsweringClient(endpoint=ai_endpoint, credential=credential)"
   ]
  },
  {
   "cell_type": "code",
   "execution_count": 5,
   "metadata": {},
   "outputs": [
    {
     "name": "stdout",
     "output_type": "stream",
     "text": [
      "**Achievements** are a recognition awarded to a user who has completed a training module on Learn.microsoft.com. The Knowledge Check near the end of each training validates that you have understood the material in that specific module.\n",
      "\n",
      "Upon earning an Achievement, you can view an Achievement badge for each training that you've completed on your Learn Profile. Sign in the Microsoft Learn site on the top-right of the page. Once signed in, you will see your profile icon in the top right, select it and choose \"Profile\" to find Achievements tab displaying all of your Achievement badges for completing training modules. (The url will be `/learn.microsoft.com/users/<your name>/achievements`, substituting `<your name>` for whatever username you've chosen).\n",
      "\n",
      "**Credentials** are a recognition that prove a user is proficient in a specific **set** of skills, learned through the completion of multiple training modules or learning paths. [Credentials](https://docs.microsoft.com/en-us/credentials) provide targeted validation for real-world technical scenarios to demonstrate proficiency in specific, scenario-based skill sets. They are earned by passing an [Assessment](https://docs.microsoft.com/en-us/assessments) (or exam) to prove that you know the material and are shareable to validate that you hold that technical skill.\n",
      "\n",
      "Upon earning an Credential, you can access your credential record on your Learn Profile. Sign in the Microsoft Learn site on the top-right of the page. Once signed in, you will see your profile icon in the top right, select it and choose \"Profile\" to find Credentials tab displaying all of your certification credentials. (The url will be `/learn.microsoft.com/users/<your name>/credentials`, substituting `<your name>` for whatever username you've chosen). You can share your credentials record with perspective employers or education institutions via a link, print out, or adding it to your LinkedIn profile.\n",
      "\n",
      "Credentials differ from Achievements in several ways:\n",
      "\n",
      "*   Achievements represent completion of a single training module. Credentials represent completion of a broader scenario-based skill.\n",
      "\n",
      "*   Achievements are validated by a short and specific Knowledge Check. Credentials are validated by a more robust skill assessment exam that covers a larger breadth of material.\n",
      "Confidence: 0.9309999999999999\n",
      "Source: https://docs.microsoft.com/en-us/learn/support/faq\n"
     ]
    }
   ],
   "source": [
    "user_question = 'How are achievements differs from credentials?'\n",
    "response = ai_client.get_answers(question=user_question, project_name=ai_project_name, deployment_name=ai_deployment_name)\n",
    "for candidate in response.answers:\n",
    "    print(candidate.answer)\n",
    "    print(\"Confidence: {}\".format(candidate.confidence))\n",
    "    print(\"Source: {}\".format(candidate.source))"
   ]
  }
 ],
 "metadata": {
  "kernelspec": {
   "display_name": "Python 3",
   "language": "python",
   "name": "python3"
  },
  "language_info": {
   "codemirror_mode": {
    "name": "ipython",
    "version": 3
   },
   "file_extension": ".py",
   "mimetype": "text/x-python",
   "name": "python",
   "nbconvert_exporter": "python",
   "pygments_lexer": "ipython3",
   "version": "3.12.6"
  }
 },
 "nbformat": 4,
 "nbformat_minor": 2
}
