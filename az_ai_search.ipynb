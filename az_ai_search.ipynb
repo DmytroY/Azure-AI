{
 "cells": [
  {
   "cell_type": "markdown",
   "metadata": {},
   "source": [
    "# Azure AI search\n",
    "\n",
    "Firstly create Azure AI Search index in accordance with this https://microsoftlearning.github.io/mslearn-ai-fundamentals/Instructions/Labs/11-ai-search.html\n",
    "Then API can be used to search in the data"
   ]
  },
  {
   "cell_type": "code",
   "execution_count": null,
   "metadata": {},
   "outputs": [],
   "source": [
    "%pip install azure-search-documents"
   ]
  },
  {
   "cell_type": "code",
   "execution_count": 16,
   "metadata": {},
   "outputs": [
    {
     "data": {
      "text/plain": [
       "True"
      ]
     },
     "execution_count": 16,
     "metadata": {},
     "output_type": "execute_result"
    }
   ],
   "source": [
    "import os\n",
    "from azure.core.credentials import AzureKeyCredential\n",
    "from azure.search.documents import SearchClient\n",
    "import pprint\n",
    "\n",
    "# endpoint and key are stored in .env file. Load it\n",
    "from dotenv import load_dotenv\n",
    "load_dotenv()"
   ]
  },
  {
   "cell_type": "code",
   "execution_count": 2,
   "metadata": {},
   "outputs": [
    {
     "name": "stdout",
     "output_type": "stream",
     "text": [
      "https://ai-services8496.search.windows.net\n"
     ]
    }
   ],
   "source": [
    "endpoint = os.getenv(\"AZURE_SEARCH_SERVICE_ENDPOINT\")\n",
    "index_name = os.getenv(\"AZURE_SEARCH_INDEX_NAME\")\n",
    "key = os.getenv(\"AZURE_SEARCH_API_KEY\")\n",
    "search_client = SearchClient(endpoint, index_name, AzureKeyCredential(key))\n",
    "\n",
    "print(endpoint)"
   ]
  },
  {
   "cell_type": "code",
   "execution_count": 22,
   "metadata": {},
   "outputs": [
    {
     "name": "stdout",
     "output_type": "stream",
     "text": [
      "Total Documents Matching Query: 1\n",
      "{'@search.captions': None,\n",
      " '@search.highlights': None,\n",
      " '@search.reranker_score': None,\n",
      " '@search.score': 0.8031771,\n",
      " 'content': '\\n'\n",
      "            '\\n'\n",
      "            '\\n'\n",
      "            'Review: My favorite part about going to Fourth Coffee is the '\n",
      "            'atmosphere. I love the warm lights and plants. It’s a great place '\n",
      "            'to go get a cup of coffee while working on your next business '\n",
      "            'idea or with friends at school. It’s also right next to the '\n",
      "            'University hub, which makes it so easy to access for students. It '\n",
      "            'just gets so busy on the weekends! I wish it was not so crowded. '\n",
      "            'Since they started offering amazing breakfast sandwiches, I '\n",
      "            'wouldn’t try to go get a coffee Saturday morning.  \\n'\n",
      "            'Date: September 1, 2018\\n'\n",
      "            'Location: Los Angeles, California \\n'\n",
      "            'image1.png\\n'\n",
      "            '\\n'\n",
      "            '\\n'\n",
      "            '\\n'\n",
      "            'image2.png\\n'\n",
      "            '\\n'\n",
      "            '\\n'\n",
      "            '\\n',\n",
      " 'imageCaption': ['{\"tags\":[\"indoor\",\"wall\",\"floor\",\"ceiling\"],\"captions\":[{\"text\":\"a '\n",
      "                  'person sitting at a '\n",
      "                  'table\",\"confidence\":0.5354033708572388}]}',\n",
      "                  '{\"tags\":[\"floor\",\"indoor\",\"living\",\"room\",\"plant\",\"furniture\",\"dining '\n",
      "                  'table\"],\"captions\":[{\"text\":\"a person sitting in a '\n",
      "                  'chair\",\"confidence\":0.4368247985839844}]}'],\n",
      " 'imageTags': ['wall',\n",
      "               'indoor',\n",
      "               'furniture',\n",
      "               'clothing',\n",
      "               'interior design',\n",
      "               'person',\n",
      "               'kitchen & dining room table',\n",
      "               'countertop',\n",
      "               'desk',\n",
      "               'ceiling',\n",
      "               'stool',\n",
      "               'coffee table',\n",
      "               'floor',\n",
      "               'woman',\n",
      "               'window',\n",
      "               'table',\n",
      "               'kitchen',\n",
      "               'chair',\n",
      "               'room',\n",
      "               'cafe',\n",
      "               'furniture',\n",
      "               'indoor',\n",
      "               'interior design',\n",
      "               'houseplant',\n",
      "               'wall',\n",
      "               'house',\n",
      "               'floor',\n",
      "               'coffee table',\n",
      "               'musical instrument',\n",
      "               'table',\n",
      "               'chair',\n",
      "               'flooring',\n",
      "               'clothing',\n",
      "               'musical keyboard',\n",
      "               'couch',\n",
      "               'studio couch',\n",
      "               'person',\n",
      "               'room',\n",
      "               'plant',\n",
      "               'piano',\n",
      "               'ceiling',\n",
      "               'home'],\n",
      " 'keyphrases': ['next business idea',\n",
      "                'amazing breakfast sandwiches',\n",
      "                'favorite part',\n",
      "                'warm lights',\n",
      "                'great place',\n",
      "                'University hub',\n",
      "                'Los Angeles',\n",
      "                'Fourth Coffee',\n",
      "                'Review',\n",
      "                'atmosphere',\n",
      "                'plants',\n",
      "                'cup',\n",
      "                'friends',\n",
      "                'school',\n",
      "                'students',\n",
      "                'weekends',\n",
      "                'Date',\n",
      "                'September',\n",
      "                'Location',\n",
      "                'California'],\n",
      " 'layoutText': ['{\"language\":\"en\",\"text\":\"\",\"lines\":[],\"words\":[]}',\n",
      "                '{\"language\":\"en\",\"text\":\"T\",\"lines\":[{\"boundingBox\":[{\"x\":809,\"y\":32},{\"x\":837,\"y\":31},{\"x\":836,\"y\":56},{\"x\":808,\"y\":55}],\"text\":\"T\"}],\"words\":[{\"boundingBox\":[{\"x\":815,\"y\":31},{\"x\":831,\"y\":31},{\"x\":831,\"y\":56},{\"x\":815,\"y\":56}],\"text\":\"T\"}]}'],\n",
      " 'locations': ['school', 'University hub', 'Los Angeles', 'California'],\n",
      " 'merged_content': '\\n'\n",
      "                   '\\n'\n",
      "                   '\\n'\n",
      "                   'Review: My favorite part about going to Fourth Coffee is '\n",
      "                   'the atmosphere. I love the warm lights and plants. It’s a '\n",
      "                   'great place to go get a cup of coffee while working on '\n",
      "                   'your next business idea or with friends at school. It’s '\n",
      "                   'also right next to the University hub, which makes it so '\n",
      "                   'easy to access for students. It just gets so busy on the '\n",
      "                   'weekends! I wish it was not so crowded. Since they started '\n",
      "                   'offering amazing breakfast sandwiches, I wouldn’t try to '\n",
      "                   'go get a coffee Saturday morning.  \\n'\n",
      "                   'Date: September 1, 2018\\n'\n",
      "                   'Location: Los Angeles, California \\n'\n",
      "                   'image1.png\\n'\n",
      "                   '  \\n'\n",
      "                   '\\n'\n",
      "                   '\\n'\n",
      "                   'image2.png\\n'\n",
      "                   ' T \\n'\n",
      "                   '\\n'\n",
      "                   '\\n',\n",
      " 'metadata_storage_path': 'aHR0cHM6Ly9zdG9yYWdlYWNjNTM5Mi5ibG9iLmNvcmUud2luZG93cy5uZXQvY29mZmUtcmV2aWV3L3Jldmlldy0yLmRvY3g1',\n",
      " 'sentiment': '[\"mixed\"]',\n",
      " 'text': ['', 'T']}\n"
     ]
    }
   ],
   "source": [
    "results = search_client.search(query_type='simple',\n",
    "    search_text=\"keyphrases:'sandwiches'\",\n",
    "    include_total_count=True)\n",
    "\n",
    "print ('Total Documents Matching Query:', results.get_count())\n",
    "for result in results:\n",
    "    pprint.pprint(result)"
   ]
  },
  {
   "cell_type": "code",
   "execution_count": null,
   "metadata": {},
   "outputs": [],
   "source": []
  }
 ],
 "metadata": {
  "kernelspec": {
   "display_name": "venv",
   "language": "python",
   "name": "python3"
  },
  "language_info": {
   "codemirror_mode": {
    "name": "ipython",
    "version": 3
   },
   "file_extension": ".py",
   "mimetype": "text/x-python",
   "name": "python",
   "nbconvert_exporter": "python",
   "pygments_lexer": "ipython3",
   "version": "3.12.6"
  }
 },
 "nbformat": 4,
 "nbformat_minor": 2
}
