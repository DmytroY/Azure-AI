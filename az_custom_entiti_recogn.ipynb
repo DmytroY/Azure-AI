{
 "cells": [
  {
   "cell_type": "markdown",
   "metadata": {},
   "source": [
    "### Custome text entities recognition\n",
    "Using Azure AI Language studio to train and deploy model, API for prediction. Based on [this](https://microsoftlearning.github.io/mslearn-ai-language/Instructions/Exercises/05-extract-custom-entities.html) Microsoft learn manual."
   ]
  },
  {
   "cell_type": "code",
   "execution_count": null,
   "metadata": {},
   "outputs": [],
   "source": [
    "%pip install azure-ai-textanalytics==5.3.0"
   ]
  },
  {
   "cell_type": "code",
   "execution_count": 1,
   "metadata": {},
   "outputs": [
    {
     "name": "stdout",
     "output_type": "stream",
     "text": [
      "Project: CustomEntityLab - Deployment: AdEntities\n"
     ]
    }
   ],
   "source": [
    "from dotenv import load_dotenv\n",
    "import os\n",
    "from azure.core.credentials import AzureKeyCredential\n",
    "from azure.ai.textanalytics import TextAnalyticsClient\n",
    "\n",
    "# Get Configuration Settings\n",
    "load_dotenv()\n",
    "ai_endpoint = os.getenv('AI_SERVICE_ENDPOINT')\n",
    "ai_key = os.getenv('AI_SERVICE_KEY')\n",
    "project_name = os.getenv('PROJECT')\n",
    "deployment_name = os.getenv('DEPLOYMENT')\n",
    "print(f'Project: {project_name} - Deployment: {deployment_name}')"
   ]
  },
  {
   "cell_type": "code",
   "execution_count": 2,
   "metadata": {},
   "outputs": [
    {
     "name": "stdout",
     "output_type": "stream",
     "text": [
      "Added test1.txt to the batch\n",
      "Added test2.txt to the batch\n",
      "Total 2 documents added to the batch\n",
      "[\"Bluetooth earbuds, $100. These work okay, but sometimes disconnect from the phone. I'm sure someone more technical that me could figure it out.\\n\\nLocated in Sacramento, CA\", 'Dog harness for sale, $20. Good condition, puppy just outgrew it.\\n\\nLocal meet up in Tucson, AZ in a public location.']\n"
     ]
    }
   ],
   "source": [
    "# Read each text file in the ads folder\n",
    "batchedDocuments = []\n",
    "ads_folder = os.path.join (os.getcwd(), \"data\", \"ads\")\n",
    "files = os.listdir(ads_folder)\n",
    "for file_name in files:\n",
    "    # Read the file contents\n",
    "    text = open(os.path.join(ads_folder, file_name), encoding='utf8').read()\n",
    "    batchedDocuments.append(text)\n",
    "    print(f\"Added {file_name} to the batch\")\n",
    "print(f\"Total {len(batchedDocuments)} documents added to the batch\")\n",
    "print(batchedDocuments)"
   ]
  },
  {
   "cell_type": "code",
   "execution_count": 3,
   "metadata": {},
   "outputs": [],
   "source": [
    "# Create client using endpoint and key\n",
    "credential = AzureKeyCredential(ai_key)\n",
    "ai_client = TextAnalyticsClient(endpoint=ai_endpoint, credential=credential)"
   ]
  },
  {
   "cell_type": "code",
   "execution_count": 4,
   "metadata": {},
   "outputs": [],
   "source": [
    "# Extract entities\n",
    "operation = ai_client.begin_recognize_custom_entities(\n",
    "    batchedDocuments,\n",
    "    project_name=project_name,\n",
    "    deployment_name=deployment_name\n",
    ")\n",
    "document_results = operation.result()"
   ]
  },
  {
   "cell_type": "code",
   "execution_count": 5,
   "metadata": {},
   "outputs": [
    {
     "name": "stdout",
     "output_type": "stream",
     "text": [
      "test1.txt\n",
      "\tEntity 'Bluetooth earbuds,' has category 'ItemForSale' with confidence score of '0.9'\n",
      "\tEntity '$100' has category 'Price' with confidence score of '0.96'\n",
      "\tEntity 'Sacramento, CA' has category 'Location' with confidence score of '0.98'\n",
      "test2.txt\n",
      "\tEntity 'Dog harness' has category 'ItemForSale' with confidence score of '0.78'\n",
      "\tEntity '$20' has category 'Price' with confidence score of '0.99'\n",
      "\tEntity 'Tucson, AZ' has category 'Location' with confidence score of '0.99'\n"
     ]
    }
   ],
   "source": [
    "# Display the results\n",
    "for doc, custom_entities_result in zip(files, document_results):\n",
    "    print(doc)\n",
    "    if custom_entities_result.kind == \"CustomEntityRecognition\":\n",
    "        for entity in custom_entities_result.entities:\n",
    "            print(f\"\\tEntity '{entity.text}' has category '{entity.category}' with confidence score of '{entity.confidence_score}'\")\n",
    "    elif custom_entities_result.is_error is True:\n",
    "        print(\"\\tError with code '{custom_entities_result.error.code}' and message '{custom_entities_result.error.message}'\")"
   ]
  }
 ],
 "metadata": {
  "kernelspec": {
   "display_name": "Python 3",
   "language": "python",
   "name": "python3"
  },
  "language_info": {
   "codemirror_mode": {
    "name": "ipython",
    "version": 3
   },
   "file_extension": ".py",
   "mimetype": "text/x-python",
   "name": "python",
   "nbconvert_exporter": "python",
   "pygments_lexer": "ipython3",
   "version": "3.12.6"
  }
 },
 "nbformat": 4,
 "nbformat_minor": 2
}
