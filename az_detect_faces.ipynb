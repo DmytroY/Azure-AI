{
 "cells": [
  {
   "cell_type": "markdown",
   "metadata": {},
   "source": [
    "# Azure AI Face API for detecting faces\n",
    "\n",
    "Based on seconf part of [this MS Learn manual](https://microsoftlearning.github.io/mslearn-ai-vision/Instructions/Exercises/04-face-service.html)."
   ]
  }
 ],
 "metadata": {
  "language_info": {
   "name": "python"
  }
 },
 "nbformat": 4,
 "nbformat_minor": 2
}
