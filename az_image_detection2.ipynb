{
 "cells": [
  {
   "cell_type": "markdown",
   "metadata": {},
   "source": [
    "### Train, publish and use image detection model with Azure Custom Vision\n",
    "This is second part which describes how to use API of trained model for object detection.\n",
    "To see how to use API for upload taged images to Azure Custom Vision Studio project refer to part1 (az_image_detection1.ipynb). <br>\n",
    "Based on [this](https://microsoftlearning.github.io/mslearn-ai-vision/Instructions/Exercises/03-custom-vision-object-detection.html) Microsoft learn manual."
   ]
  },
  {
   "cell_type": "code",
   "execution_count": null,
   "metadata": {
    "vscode": {
     "languageId": "plaintext"
    }
   },
   "outputs": [],
   "source": [
    "from azure.cognitiveservices.vision.customvision.prediction import CustomVisionPredictionClient\n",
    "from msrest.authentication import ApiKeyCredentials\n",
    "from matplotlib import pyplot as plt\n",
    "from PIL import Image, ImageDraw, ImageFont\n",
    "import numpy as np\n",
    "import os\n",
    "from dotenv import load_dotenv\n",
    "\n",
    "# Get Configuration Settings\n",
    "load_dotenv()\n",
    "prediction_endpoint = os.getenv('PREDICTION_ENDPOINT')\n",
    "prediction_key = os.getenv('PREDICTION_KEY')\n",
    "project_id = os.getenv('PROJECT_ID')\n",
    "model_name = os.getenv('MODEL_NAME')"
   ]
  },
  {
   "cell_type": "code",
   "execution_count": null,
   "metadata": {
    "vscode": {
     "languageId": "plaintext"
    }
   },
   "outputs": [],
   "source": [
    "# Authenticate a client for the training API\n",
    "credentials = ApiKeyCredentials(in_headers={\"Prediction-key\": prediction_key})\n",
    "prediction_client = CustomVisionPredictionClient(endpoint=prediction_endpoint, credentials=credentials)"
   ]
  },
  {
   "cell_type": "code",
   "execution_count": null,
   "metadata": {
    "vscode": {
     "languageId": "plaintext"
    }
   },
   "outputs": [],
   "source": [
    "# Load image and get height, width and channels\n",
    "# data\\test-images\\produce.jpg\n",
    "image_url = os.path.join (os.getcwd(), \"data\", \"test-images\", \"produce.jpg\")\n",
    "print('Detecting objects in file', image_url)\n",
    "image = Image.open(image_url)\n",
    "h, w, ch = np.array(image).shape"
   ]
  }
 ],
 "metadata": {
  "language_info": {
   "name": "python"
  }
 },
 "nbformat": 4,
 "nbformat_minor": 2
}
