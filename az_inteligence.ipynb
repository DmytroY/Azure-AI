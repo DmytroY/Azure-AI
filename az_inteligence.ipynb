{
 "cells": [
  {
   "cell_type": "markdown",
   "metadata": {},
   "source": [
    "# Azure Inteligence\n",
    "Azure Document Intelligence allows extract information from documents.\n",
    "Below is example of extracting information from Receipts.\n",
    "Create resource as described here https://microsoftlearning.github.io/mslearn-ai-fundamentals/Instructions/Labs/10-document-intelligence.html then use API as below."
   ]
  },
  {
   "cell_type": "code",
   "execution_count": null,
   "metadata": {},
   "outputs": [],
   "source": [
    "%pip install azure-ai-formrecognizer"
   ]
  },
  {
   "cell_type": "code",
   "execution_count": 1,
   "metadata": {},
   "outputs": [
    {
     "name": "stdout",
     "output_type": "stream",
     "text": [
      "https://australiaeast.api.cognitive.microsoft.com/\n"
     ]
    }
   ],
   "source": [
    "import os, requests, uuid, json\n",
    "from dotenv import load_dotenv\n",
    "\n",
    "# endpoint and key are stored in .env file. Load it.\n",
    "load_dotenv()\n",
    "print(os.getenv(\"AZURE_INTELIGENCE_ENDPOINT\"))"
   ]
  },
  {
   "cell_type": "code",
   "execution_count": 6,
   "metadata": {},
   "outputs": [
    {
     "name": "stdout",
     "output_type": "stream",
     "text": [
      "--------Recognizing receipt #1--------\n",
      "Receipt Type: receipt.retailMeal\n",
      "Merchant Name: Northwind Traders has confidence: 0.994\n",
      "Transaction Date: 2020-02-17 has confidence: 0.995\n",
      "Receipt items:\n",
      "...Item #1\n",
      "......Item Description: Apple has confidence: 0.995\n",
      "......Item Quantity: 1.0 has confidence: 0.995\n",
      "......Total Item Price: 0.9 has confidence: 0.995\n",
      "...Item #2\n",
      "......Item Description: Orange has confidence: 0.995\n",
      "......Item Quantity: 1.0 has confidence: 0.995\n",
      "......Total Item Price: 0.8 has confidence: 0.995\n",
      "Subtotal: 1.7 has confidence: 0.995\n",
      "Tax: 0.17 has confidence: 0.995\n",
      "Total: 1.87 has confidence: 0.991\n",
      "--------------------------------------\n"
     ]
    }
   ],
   "source": [
    "from azure.core.credentials import AzureKeyCredential\n",
    "from azure.ai.formrecognizer import DocumentAnalysisClient\n",
    "\n",
    "endpoint = os.getenv(\"AZURE_INTELIGENCE_ENDPOINT\")\n",
    "key = os.getenv(\"AZURE_INTELIGENCE_KEY\")\n",
    "\n",
    "# loading sample document here\n",
    "# either use url\n",
    "# url = \"https://raw.githubusercontent.com/Azure/azure-sdk-for-python/main/sdk/formrecognizer/azure-ai-formrecognizer/tests/sample_forms/receipt/contoso-receipt.png\"\n",
    "\n",
    "# or local file\n",
    "file_path = \"data/receipt.jpg\"\n",
    "with open(file_path, \"rb\") as f:\n",
    "    file_content = f.read()\n",
    "\n",
    "document_analysis_client = DocumentAnalysisClient(\n",
    "    endpoint=endpoint, credential=AzureKeyCredential(key)\n",
    ")\n",
    "# in case of url usage\n",
    "# poller = document_analysis_client.begin_analyze_document_from_url(\"prebuilt-receipt\", url)\n",
    "\n",
    "#in case of local file usage\n",
    "poller = document_analysis_client.begin_analyze_document(\"prebuilt-receipt\", file_content)\n",
    "\n",
    "receipts = poller.result()\n",
    "\n",
    "for idx, receipt in enumerate(receipts.documents):\n",
    "    print(\"--------Recognizing receipt #{}--------\".format(idx + 1))\n",
    "    receipt_type = receipt.doc_type\n",
    "    if receipt_type:\n",
    "        print(\n",
    "            \"Receipt Type: {}\".format(receipt_type)\n",
    "        )\n",
    "    merchant_name = receipt.fields.get(\"MerchantName\")\n",
    "    if merchant_name:\n",
    "        print(\n",
    "            \"Merchant Name: {} has confidence: {}\".format(\n",
    "                merchant_name.value, merchant_name.confidence\n",
    "            )\n",
    "        )\n",
    "    transaction_date = receipt.fields.get(\"TransactionDate\")\n",
    "    if transaction_date:\n",
    "        print(\n",
    "            \"Transaction Date: {} has confidence: {}\".format(\n",
    "                transaction_date.value, transaction_date.confidence\n",
    "            )\n",
    "        )\n",
    "    if receipt.fields.get(\"Items\"):\n",
    "        print(\"Receipt items:\")\n",
    "        for idx, item in enumerate(receipt.fields.get(\"Items\").value):\n",
    "            print(\"...Item #{}\".format(idx + 1))\n",
    "            item_description = item.value.get(\"Description\")\n",
    "            if item_description:\n",
    "                print(\n",
    "                    \"......Item Description: {} has confidence: {}\".format(\n",
    "                        item_description.value, item_description.confidence\n",
    "                    )\n",
    "                )\n",
    "            item_quantity = item.value.get(\"Quantity\")\n",
    "            if item_quantity:\n",
    "                print(\n",
    "                    \"......Item Quantity: {} has confidence: {}\".format(\n",
    "                        item_quantity.value, item_quantity.confidence\n",
    "                    )\n",
    "                )\n",
    "            item_price = item.value.get(\"Price\")\n",
    "            if item_price:\n",
    "                print(\n",
    "                    \"......Individual Item Price: {} has confidence: {}\".format(\n",
    "                        item_price.value, item_price.confidence\n",
    "                    )\n",
    "                )\n",
    "            item_total_price = item.value.get(\"TotalPrice\")\n",
    "            if item_total_price:\n",
    "                print(\n",
    "                    \"......Total Item Price: {} has confidence: {}\".format(\n",
    "                        item_total_price.value, item_total_price.confidence\n",
    "                    )\n",
    "                )\n",
    "    subtotal = receipt.fields.get(\"Subtotal\")\n",
    "    if subtotal:\n",
    "        print(\n",
    "            \"Subtotal: {} has confidence: {}\".format(\n",
    "                subtotal.value, subtotal.confidence\n",
    "            )\n",
    "        )\n",
    "    tax = receipt.fields.get(\"TotalTax\")\n",
    "    if tax:\n",
    "        print(\"Tax: {} has confidence: {}\".format(tax.value, tax.confidence))\n",
    "    tip = receipt.fields.get(\"Tip\")\n",
    "    if tip:\n",
    "        print(\"Tip: {} has confidence: {}\".format(tip.value, tip.confidence))\n",
    "    total = receipt.fields.get(\"Total\")\n",
    "    if total:\n",
    "        print(\"Total: {} has confidence: {}\".format(total.value, total.confidence))\n",
    "    print(\"--------------------------------------\")\n"
   ]
  }
 ],
 "metadata": {
  "kernelspec": {
   "display_name": "venv",
   "language": "python",
   "name": "python3"
  },
  "language_info": {
   "codemirror_mode": {
    "name": "ipython",
    "version": 3
   },
   "file_extension": ".py",
   "mimetype": "text/x-python",
   "name": "python",
   "nbconvert_exporter": "python",
   "pygments_lexer": "ipython3",
   "version": "3.12.6"
  }
 },
 "nbformat": 4,
 "nbformat_minor": 2
}
