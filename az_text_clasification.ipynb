{
 "cells": [
  {
   "cell_type": "markdown",
   "metadata": {},
   "source": [
    "### Custom text clasification with Azure cognitive service API\n",
    "\n",
    "Based on [this](https://microsoftlearning.github.io/mslearn-ai-language/Instructions/Exercises/04-text-classification.html) Microsoft learn manual."
   ]
  },
  {
   "cell_type": "code",
   "execution_count": null,
   "metadata": {},
   "outputs": [],
   "source": [
    "%pip install azure-ai-textanalytics==5.3.0"
   ]
  },
  {
   "cell_type": "code",
   "execution_count": 1,
   "metadata": {},
   "outputs": [
    {
     "name": "stdout",
     "output_type": "stream",
     "text": [
      "Project: ClassifyLab - Deployment: articles\n",
      "Endpoint: https://ai-language423.cognitiveservices.azure.com/\n"
     ]
    }
   ],
   "source": [
    "from dotenv import load_dotenv\n",
    "import os\n",
    "from azure.core.credentials import AzureKeyCredential\n",
    "from azure.ai.textanalytics import TextAnalyticsClient\n",
    "\n",
    "# Get Configuration Settings\n",
    "load_dotenv()\n",
    "ai_endpoint = os.getenv('AI_SERVICE_ENDPOINT')\n",
    "ai_key = os.getenv('AI_SERVICE_KEY')\n",
    "project_name = os.getenv('PROJECT')\n",
    "deployment_name = os.getenv('DEPLOYMENT')\n",
    "print(f'Project: {project_name} - Deployment: {deployment_name}')\n",
    "print(f'Endpoint: {ai_endpoint}')"
   ]
  },
  {
   "cell_type": "code",
   "execution_count": 2,
   "metadata": {},
   "outputs": [
    {
     "name": "stdout",
     "output_type": "stream",
     "text": [
      "Processing test1.txt\n",
      "Processing test2.txt\n",
      "-------------\n",
      "Processed 2 documents\n",
      "['Investigating the potential for life around the stars\\n\\nWhen the world’s most powerful telescope launches into space this year, scientists will learn whether Earth-sized planets in our \\'solar neighborhood\\' have a key prerequisite for life — an atmosphere.\\n\\nThese planets orbit an M-dwarf, the smallest and most common type of star in the galaxy. Scientists do not currently know how common it is for Earth-like planets around this type of star to have characteristics that would make them habitable.\\n\\n\"As a starting place, it is important to know whether small, rocky planets orbiting M-dwarfs have atmospheres,\" said Sydney Mattos, a doctoral student in Bellows College’s Department of Earth and Planetary Sciences. \"If so, it opens up our search for life outside our solar system.\"', \"League best, worst XIs: Man United stars Pogba, Maguire had season to forget; Kane, Son shone for Spurs\\n\\nAfter a final day of maximum drama, the glittering prizes in the League are decided: Real Contoso champions for the fourth time in five years, London foiled in a photo finish, Fabrikam in the League and Adatum United marching on into another season in the top flight.\\n\\nBut how about the individual accolades? And how about those who would probably prefer to forget the season? Everyone will have their own ideas about the real movers and shakers, so without further ado, here are this observer's best and worst teams of 2021-22.\"]\n"
     ]
    }
   ],
   "source": [
    "# Read each text file in the articles folder\n",
    "batchedDocuments = []\n",
    "articles_folder = os.path.join (os.getcwd(), \"data\", \"articles\")\n",
    "files = os.listdir(articles_folder)\n",
    "for file_name in files:\n",
    "    # Read the file contents\n",
    "    text = open(os.path.join(articles_folder, file_name), encoding='utf8').read()\n",
    "    batchedDocuments.append(text)\n",
    "    print(f'Processing {file_name}')\n",
    "print(f'-------------\\nProcessed {len(batchedDocuments)} documents')\n",
    "print(batchedDocuments)"
   ]
  },
  {
   "cell_type": "code",
   "execution_count": 3,
   "metadata": {},
   "outputs": [],
   "source": [
    "# Create client using endpoint and key\n",
    "credential = AzureKeyCredential(ai_key)\n",
    "ai_client = TextAnalyticsClient(endpoint=ai_endpoint, credential=credential)"
   ]
  },
  {
   "cell_type": "code",
   "execution_count": 23,
   "metadata": {},
   "outputs": [],
   "source": [
    "# Get Classifications\n",
    "operation = ai_client.begin_single_label_classify(\n",
    "    batchedDocuments,\n",
    "    project_name=project_name,\n",
    "    deployment_name=deployment_name\n",
    ")\n",
    "document_results = operation.result()"
   ]
  },
  {
   "cell_type": "code",
   "execution_count": 24,
   "metadata": {},
   "outputs": [
    {
     "name": "stdout",
     "output_type": "stream",
     "text": [
      "test1.txt was classified as 'Entertainment' with confidence score 0.28.\n",
      "test2.txt was classified as 'Sports' with confidence score 0.33.\n"
     ]
    }
   ],
   "source": [
    "# Display the results\n",
    "for doc, classification_result in zip(files, document_results):\n",
    "    if classification_result.kind == \"CustomDocumentClassification\":\n",
    "        classification = classification_result.classifications[0]\n",
    "        print(f\"{doc} was classified as '{classification.category}' with confidence score {classification.confidence_score}.\")\n",
    "    elif classification_result.is_error is True:\n",
    "        print(f\"{doc} has an error with code '{classification_result.error.code}' and message '{classification_result.error.message}'\")"
   ]
  }
 ],
 "metadata": {
  "kernelspec": {
   "display_name": "Python 3",
   "language": "python",
   "name": "python3"
  },
  "language_info": {
   "codemirror_mode": {
    "name": "ipython",
    "version": 3
   },
   "file_extension": ".py",
   "mimetype": "text/x-python",
   "name": "python",
   "nbconvert_exporter": "python",
   "pygments_lexer": "ipython3",
   "version": "3.12.6"
  }
 },
 "nbformat": 4,
 "nbformat_minor": 2
}
