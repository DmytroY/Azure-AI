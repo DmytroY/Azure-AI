{
 "cells": [
  {
   "cell_type": "markdown",
   "metadata": {},
   "source": [
    "# Azure Translator\n",
    "Create Azure Translator resource as described here https://microsoftlearning.github.io/mslearn-ai-fundamentals/Instructions/Labs/15-translation.html then use API as below."
   ]
  },
  {
   "cell_type": "markdown",
   "metadata": {},
   "source": []
  },
  {
   "cell_type": "code",
   "execution_count": 6,
   "metadata": {},
   "outputs": [
    {
     "name": "stdout",
     "output_type": "stream",
     "text": [
      "https://api.cognitive.microsofttranslator.com/\n"
     ]
    }
   ],
   "source": [
    "import os, requests, uuid, json\n",
    "from dotenv import load_dotenv\n",
    "\n",
    "# endpoint and key are stored in .env file. Load it.\n",
    "load_dotenv()\n",
    "print(os.getenv(\"AZURE_TRANSLATOR_ENDPOINT\"))"
   ]
  },
  {
   "cell_type": "code",
   "execution_count": 18,
   "metadata": {},
   "outputs": [],
   "source": [
    "key = os.getenv(\"AZURE_TRANSLATOR_KEY\")\n",
    "endpoint = os.getenv(\"AZURE_TRANSLATOR_ENDPOINT\")\n",
    "# lacation (region) is required in case of usage a multi-service or regional (not global) resource\n",
    "location = os.getenv(\"AZURE_TRANSLATOR_REGION\")\n",
    "\n",
    "constructed_url = endpoint + \"/translate\"\n",
    "params = {\n",
    "    'api-version': '3.0',\n",
    "    'from': 'uk',\n",
    "    'to': ['cs', 'en'],\n",
    "}\n",
    "headers = {\n",
    "    'Ocp-Apim-Subscription-Key': key,\n",
    "    'Ocp-Apim-Subscription-Region': location,\n",
    "    'Content-type': 'application/json',\n",
    "    'X-ClientTraceId': str(uuid.uuid4()),\n",
    "}\n",
    "body = [{\n",
    "    'text': \"\"\" Дивне те людське серце! Найбільше своє щастя, найбільшу розкіш бачить у тім, щоб задати другому болючий удар, зробити його нещасливим,\n",
    "    відібрати йому віру в людей і надію на ліпше! - \n",
    "    Іван Франко.\n",
    "    \"\"\"\n",
    "},{'text':'Радіус Сонця становить близько 695 000 км, що в 109 разів більше від радіуса Землі. - Wikipedia'}]"
   ]
  },
  {
   "cell_type": "code",
   "execution_count": 19,
   "metadata": {},
   "outputs": [],
   "source": [
    "request = requests.post(constructed_url, params=params, headers=headers, json=body)\n",
    "response = request.json()"
   ]
  },
  {
   "cell_type": "code",
   "execution_count": 20,
   "metadata": {},
   "outputs": [
    {
     "name": "stdout",
     "output_type": "stream",
     "text": [
      "[\n",
      "    {\n",
      "        \"translations\": [\n",
      "            {\n",
      "                \"text\": \" Podivné je to lidské srdce! Vidí své největší štěstí, svůj největší přepych v tom, že zasadí svému příteli bolestnou ránu, že ho učiní nešťastným.\\n    Vzít mu víru v lidi a naději v to nejlepší! - \\n    Ivan Franko.\\n    \",\n",
      "                \"to\": \"cs\"\n",
      "            },\n",
      "            {\n",
      "                \"text\": \" Strange is that human heart! He sees his greatest happiness, his greatest luxury in giving his friend a painful blow, in making him unhappy,\\n    To take away his faith in people and hope for the best! - \\n    Ivan Franko.\\n    \",\n",
      "                \"to\": \"en\"\n",
      "            }\n",
      "        ]\n",
      "    },\n",
      "    {\n",
      "        \"translations\": [\n",
      "            {\n",
      "                \"text\": \"Poloměr Slunce je asi 695 000 km, což je 109krát poloměr Země. - Wikipedie\",\n",
      "                \"to\": \"cs\"\n",
      "            },\n",
      "            {\n",
      "                \"text\": \"The radius of the Sun is about 695,000 km, which is 109 times the radius of the Earth. - Wikipedia\",\n",
      "                \"to\": \"en\"\n",
      "            }\n",
      "        ]\n",
      "    }\n",
      "]\n"
     ]
    }
   ],
   "source": [
    "print(json.dumps(response, sort_keys=True, ensure_ascii=False, indent=4, separators=(',', ': ')))"
   ]
  },
  {
   "cell_type": "code",
   "execution_count": null,
   "metadata": {},
   "outputs": [],
   "source": []
  }
 ],
 "metadata": {
  "kernelspec": {
   "display_name": "venv",
   "language": "python",
   "name": "python3"
  },
  "language_info": {
   "codemirror_mode": {
    "name": "ipython",
    "version": 3
   },
   "file_extension": ".py",
   "mimetype": "text/x-python",
   "name": "python",
   "nbconvert_exporter": "python",
   "pygments_lexer": "ipython3",
   "version": "3.12.6"
  }
 },
 "nbformat": 4,
 "nbformat_minor": 2
}
