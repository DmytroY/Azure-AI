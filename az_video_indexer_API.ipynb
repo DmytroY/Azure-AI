{
 "cells": [
  {
   "cell_type": "markdown",
   "metadata": {},
   "source": [
    "### Using Microsoft video indexer API\n",
    "\n",
    "Based on [this](https://microsoftlearning.github.io/mslearn-ai-vision/Instructions/Exercises/06-video-indexer.html) Microsoft learn manual."
   ]
  },
  {
   "cell_type": "code",
   "execution_count": 3,
   "metadata": {},
   "outputs": [],
   "source": [
    "import urllib.request, json, os\n",
    "from dotenv import load_dotenv"
   ]
  },
  {
   "cell_type": "code",
   "execution_count": 5,
   "metadata": {},
   "outputs": [
    {
     "name": "stdout",
     "output_type": "stream",
     "text": [
      "Account ID: dc8683d1-314b-4fa0-9baa-639b29fa9f16\n"
     ]
    }
   ],
   "source": [
    "# Get Configuration Settings\n",
    "load_dotenv()\n",
    "account_id=os.getenv('INDEXER_ACCOUNT_ID')\n",
    "api_key=os.getenv('INDEXER_API_KEY')\n",
    "location=os.getenv('INDEXER_LOCATION')\n",
    "print(\"Account ID: \" + account_id)"
   ]
  },
  {
   "cell_type": "markdown",
   "metadata": {},
   "source": [
    "### GET access token"
   ]
  },
  {
   "cell_type": "code",
   "execution_count": 36,
   "metadata": {},
   "outputs": [
    {
     "name": "stdout",
     "output_type": "stream",
     "text": [
      "https://api.videoindexer.ai/Auth/trial/Accounts/dc8683d1-314b-4fa0-9baa-639b29fa9f16/AccessToken?allowEdit=false\n"
     ]
    }
   ],
   "source": [
    "# construct the URL\n",
    "url = f\"https://api.videoindexer.ai/Auth/{location}/Accounts/{account_id}/AccessToken?allowEdit=false\"\n",
    "print(url)"
   ]
  },
  {
   "cell_type": "code",
   "execution_count": 37,
   "metadata": {},
   "outputs": [],
   "source": [
    "# Request headers\n",
    "hdr ={\n",
    "'Cache-Control': 'no-cache',\n",
    "'Ocp-Apim-Subscription-Key': api_key,\n",
    "}"
   ]
  },
  {
   "cell_type": "code",
   "execution_count": 38,
   "metadata": {},
   "outputs": [
    {
     "name": "stdout",
     "output_type": "stream",
     "text": [
      "200\n"
     ]
    }
   ],
   "source": [
    "# Make the request to get the access token\n",
    "import requests\n",
    "responce = requests.get(url, headers = hdr)\n",
    "print(responce.status_code)\n",
    "token = responce.text.replace('\"','')"
   ]
  },
  {
   "cell_type": "markdown",
   "metadata": {},
   "source": [
    "### Use the access token to make an authenticated call to the Videos method to get a list of videos in the account"
   ]
  },
  {
   "cell_type": "code",
   "execution_count": 41,
   "metadata": {},
   "outputs": [
    {
     "name": "stdout",
     "output_type": "stream",
     "text": [
      "200\n"
     ]
    }
   ],
   "source": [
    "url = f'https://api.videoindexer.ai/{location}/Accounts/{account_id}/Videos?accessToken={token}'\n",
    "responce = requests.get(url)\n",
    "print(responce.status_code)"
   ]
  },
  {
   "cell_type": "code",
   "execution_count": 58,
   "metadata": {},
   "outputs": [
    {
     "name": "stdout",
     "output_type": "stream",
     "text": [
      "{\n",
      "  \"results\": [\n",
      "    {\n",
      "      \"accountId\": \"dc8683d1-314b-4fa0-9baa-639b29fa9f16\",\n",
      "      \"id\": \"6o3zw0plrp\",\n",
      "      \"partition\": null,\n",
      "      \"externalId\": null,\n",
      "      \"metadata\": null,\n",
      "      \"name\": \"Responsible AI\",\n",
      "      \"description\": null,\n",
      "      \"created\": \"2024-12-28T09:39:50.21+00:00\",\n",
      "      \"lastModified\": \"2024-12-28T09:41:08.1566667+00:00\",\n",
      "      \"lastIndexed\": \"2024-12-28T09:41:08.1566667+00:00\",\n",
      "      \"privacyMode\": \"Private\",\n",
      "      \"userName\": \"Dmytro Yakovenko\",\n",
      "      \"isOwned\": true,\n",
      "      \"isBase\": true,\n",
      "      \"hasSourceVideoFile\": true,\n",
      "      \"state\": \"Processed\",\n",
      "      \"moderationState\": \"OK\",\n",
      "      \"reviewState\": \"None\",\n",
      "      \"isSearchable\": true,\n",
      "      \"processingProgress\": \"100%\",\n",
      "      \"durationInSeconds\": 114,\n",
      "      \"thumbnailVideoId\": \"6o3zw0plrp\",\n",
      "      \"thumbnailId\": \"60d0313f-09b2-4600-ba1a-4b5606f4eb49\",\n",
      "      \"searchMatches\": [],\n",
      "      \"indexingPreset\": \"Default\",\n",
      "      \"streamingPreset\": \"SingleBitrate\",\n",
      "      \"sourceLanguage\": \"en-US\",\n",
      "      \"sourceLanguages\": [\n",
      "        \"en-US\"\n",
      "      ],\n",
      "      \"personModelId\": \"00000000-0000-0000-0000-000000000000\"\n",
      "    }\n",
      "  ],\n",
      "  \"nextPage\": {\n",
      "    \"pageSize\": 25,\n",
      "    \"skip\": 0,\n",
      "    \"done\": true\n",
      "  }\n",
      "}\n"
     ]
    }
   ],
   "source": [
    "import json\n",
    "json_object = json.loads(responce.text)\n",
    "print(json.dumps(json_object, indent=2))"
   ]
  }
 ],
 "metadata": {
  "kernelspec": {
   "display_name": "Python 3",
   "language": "python",
   "name": "python3"
  },
  "language_info": {
   "codemirror_mode": {
    "name": "ipython",
    "version": 3
   },
   "file_extension": ".py",
   "mimetype": "text/x-python",
   "name": "python",
   "nbconvert_exporter": "python",
   "pygments_lexer": "ipython3",
   "version": "3.12.6"
  }
 },
 "nbformat": 4,
 "nbformat_minor": 2
}
